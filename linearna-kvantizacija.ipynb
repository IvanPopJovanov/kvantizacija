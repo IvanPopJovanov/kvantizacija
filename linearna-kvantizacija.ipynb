{
 "cells": [
  {
   "cell_type": "code",
   "execution_count": 73,
   "id": "b14305ed-e663-4bc4-9a38-beb9eabfe64e",
   "metadata": {},
   "outputs": [
    {
     "data": {
      "text/plain": [
       "<torch._C.Generator at 0x7c35e02ea290>"
      ]
     },
     "execution_count": 73,
     "metadata": {},
     "output_type": "execute_result"
    }
   ],
   "source": [
    "import torch\n",
    "torch.manual_seed(42)"
   ]
  },
  {
   "cell_type": "code",
   "execution_count": 74,
   "id": "023b8b65-df09-487a-bad7-7818a360c8aa",
   "metadata": {},
   "outputs": [
    {
     "name": "stdout",
     "output_type": "stream",
     "text": [
      "tensor([0.8823, 0.9150, 0.3829, 0.9593, 0.3904]) torch.float32\n"
     ]
    }
   ],
   "source": [
    "x = torch.rand(5, dtype=torch.float32)\n",
    "print(x, x.dtype)"
   ]
  },
  {
   "cell_type": "code",
   "execution_count": 75,
   "id": "f1d5f63d-d043-426a-8133-0815ae614357",
   "metadata": {},
   "outputs": [
    {
     "name": "stdout",
     "output_type": "stream",
     "text": [
      "tensor(0.3829) tensor(0.9593)\n",
      "-128 127\n"
     ]
    }
   ],
   "source": [
    "r_min = x.min()\n",
    "r_max = x.max()\n",
    "print(r_min, r_max)\n",
    "\n",
    "q_min = torch.iinfo(torch.int8).min\n",
    "q_max = torch.iinfo(torch.int8).max\n",
    "print(q_min, q_max)"
   ]
  },
  {
   "cell_type": "code",
   "execution_count": 76,
   "id": "3c8eb70c-8d95-4cca-b967-22e7a7efcbcc",
   "metadata": {},
   "outputs": [],
   "source": [
    "s = (r_max-r_min)/(q_max - q_min)\n",
    "z = (q_min - r_min/s)"
   ]
  },
  {
   "cell_type": "code",
   "execution_count": 77,
   "id": "7fb2b5f3-97f0-49be-b71a-5acd1207ffc2",
   "metadata": {},
   "outputs": [
    {
     "name": "stdout",
     "output_type": "stream",
     "text": [
      "tensor([  93,  107, -128,  127, -125], dtype=torch.int8)\n"
     ]
    }
   ],
   "source": [
    "y = torch.round(x/s + z).to(torch.int8)\n",
    "print(y)"
   ]
  },
  {
   "cell_type": "code",
   "execution_count": 78,
   "id": "7f4fc136-e2ce-4556-a156-f9ca7eccb7c7",
   "metadata": {},
   "outputs": [
    {
     "name": "stdout",
     "output_type": "stream",
     "text": [
      "tensor([0.8824, 0.9141, 0.3829, 0.9593, 0.3896])\n"
     ]
    }
   ],
   "source": [
    "x_r = (y.to(torch.float32) - z)*s\n",
    "print(x_r)"
   ]
  },
  {
   "cell_type": "code",
   "execution_count": 79,
   "id": "3f27f6ec-457e-4a51-82f0-d14c492bf639",
   "metadata": {},
   "outputs": [
    {
     "data": {
      "text/plain": [
       "tensor([1.7750e-04, 9.0939e-04, 5.9605e-08, 5.9605e-08, 8.0273e-04])"
      ]
     },
     "execution_count": 79,
     "metadata": {},
     "output_type": "execute_result"
    }
   ],
   "source": [
    "torch.abs(x - x_r)"
   ]
  }
 ],
 "metadata": {
  "kernelspec": {
   "display_name": "Python 3 (ipykernel)",
   "language": "python",
   "name": "python3"
  },
  "language_info": {
   "codemirror_mode": {
    "name": "ipython",
    "version": 3
   },
   "file_extension": ".py",
   "mimetype": "text/x-python",
   "name": "python",
   "nbconvert_exporter": "python",
   "pygments_lexer": "ipython3",
   "version": "3.10.12"
  }
 },
 "nbformat": 4,
 "nbformat_minor": 5
}
